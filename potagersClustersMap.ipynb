{
 "cells": [
  {
   "cell_type": "markdown",
   "metadata": {},
   "source": [
    "## Cluster de potagers en Île de France"
   ]
  },
  {
   "cell_type": "code",
   "execution_count": 1,
   "metadata": {},
   "outputs": [],
   "source": [
    "# import des packages\n",
    "\n",
    "import os\n",
    "import json\n",
    "import folium\n",
    "import pandas as pd\n",
    "import geopandas\n",
    "import shapely\n",
    "import numpy as np\n",
    "from folium import plugins\n",
    "from folium.plugins import MarkerCluster"
   ]
  },
  {
   "cell_type": "code",
   "execution_count": 2,
   "metadata": {},
   "outputs": [],
   "source": [
    "# instanciation d'un carte\n",
    "maCarte = folium.Map(\n",
    "            location=[48.8333, 2.5033],\n",
    "            tiles = 'openstreetmap',\n",
    "            zoom_start = 8\n",
    ")"
   ]
  },
  {
   "cell_type": "code",
   "execution_count": 3,
   "metadata": {},
   "outputs": [],
   "source": [
    "# on crée un dataframe avec les potagers\n",
    "centroides = geopandas.read_file(\"./data/centro_WGS84.geojson\")"
   ]
  },
  {
   "cell_type": "code",
   "execution_count": 4,
   "metadata": {},
   "outputs": [
    {
     "data": {
      "text/html": [
       "<div>\n",
       "<style scoped>\n",
       "    .dataframe tbody tr th:only-of-type {\n",
       "        vertical-align: middle;\n",
       "    }\n",
       "\n",
       "    .dataframe tbody tr th {\n",
       "        vertical-align: top;\n",
       "    }\n",
       "\n",
       "    .dataframe thead th {\n",
       "        text-align: right;\n",
       "    }\n",
       "</style>\n",
       "<table border=\"1\" class=\"dataframe\">\n",
       "  <thead>\n",
       "    <tr style=\"text-align: right;\">\n",
       "      <th></th>\n",
       "      <th>ID_Jard</th>\n",
       "      <th>Jard_Surf</th>\n",
       "      <th>Zone</th>\n",
       "      <th>Dpt_Code</th>\n",
       "      <th>Com_Code</th>\n",
       "      <th>long</th>\n",
       "      <th>lat</th>\n",
       "      <th>longgg</th>\n",
       "      <th>lattt</th>\n",
       "      <th>geometry</th>\n",
       "    </tr>\n",
       "  </thead>\n",
       "  <tbody>\n",
       "    <tr>\n",
       "      <th>0</th>\n",
       "      <td>1447</td>\n",
       "      <td>340.85</td>\n",
       "      <td>Roissy</td>\n",
       "      <td>95</td>\n",
       "      <td>95580</td>\n",
       "      <td>2.5652</td>\n",
       "      <td>49.092</td>\n",
       "      <td>2.565225</td>\n",
       "      <td>49.091613</td>\n",
       "      <td>POINT (2.56522 49.09161)</td>\n",
       "    </tr>\n",
       "    <tr>\n",
       "      <th>1</th>\n",
       "      <td>1448</td>\n",
       "      <td>107.66</td>\n",
       "      <td>Roissy</td>\n",
       "      <td>95</td>\n",
       "      <td>95580</td>\n",
       "      <td>2.5732</td>\n",
       "      <td>49.083</td>\n",
       "      <td>2.573197</td>\n",
       "      <td>49.082602</td>\n",
       "      <td>POINT (2.57320 49.08260)</td>\n",
       "    </tr>\n",
       "    <tr>\n",
       "      <th>2</th>\n",
       "      <td>1449</td>\n",
       "      <td>44.63</td>\n",
       "      <td>Roissy</td>\n",
       "      <td>95</td>\n",
       "      <td>95580</td>\n",
       "      <td>2.5633</td>\n",
       "      <td>49.090</td>\n",
       "      <td>2.563272</td>\n",
       "      <td>49.090147</td>\n",
       "      <td>POINT (2.56327 49.09015)</td>\n",
       "    </tr>\n",
       "    <tr>\n",
       "      <th>3</th>\n",
       "      <td>1450</td>\n",
       "      <td>101.08</td>\n",
       "      <td>Roissy</td>\n",
       "      <td>95</td>\n",
       "      <td>95580</td>\n",
       "      <td>2.5660</td>\n",
       "      <td>49.091</td>\n",
       "      <td>2.565987</td>\n",
       "      <td>49.090778</td>\n",
       "      <td>POINT (2.56599 49.09078)</td>\n",
       "    </tr>\n",
       "    <tr>\n",
       "      <th>4</th>\n",
       "      <td>1451</td>\n",
       "      <td>84.78</td>\n",
       "      <td>Roissy</td>\n",
       "      <td>95</td>\n",
       "      <td>95580</td>\n",
       "      <td>2.5669</td>\n",
       "      <td>49.092</td>\n",
       "      <td>2.566934</td>\n",
       "      <td>49.091832</td>\n",
       "      <td>POINT (2.56693 49.09183)</td>\n",
       "    </tr>\n",
       "  </tbody>\n",
       "</table>\n",
       "</div>"
      ],
      "text/plain": [
       "   ID_Jard  Jard_Surf    Zone Dpt_Code Com_Code    long     lat    longgg  \\\n",
       "0     1447     340.85  Roissy       95    95580  2.5652  49.092  2.565225   \n",
       "1     1448     107.66  Roissy       95    95580  2.5732  49.083  2.573197   \n",
       "2     1449      44.63  Roissy       95    95580  2.5633  49.090  2.563272   \n",
       "3     1450     101.08  Roissy       95    95580  2.5660  49.091  2.565987   \n",
       "4     1451      84.78  Roissy       95    95580  2.5669  49.092  2.566934   \n",
       "\n",
       "       lattt                  geometry  \n",
       "0  49.091613  POINT (2.56522 49.09161)  \n",
       "1  49.082602  POINT (2.57320 49.08260)  \n",
       "2  49.090147  POINT (2.56327 49.09015)  \n",
       "3  49.090778  POINT (2.56599 49.09078)  \n",
       "4  49.091832  POINT (2.56693 49.09183)  "
      ]
     },
     "execution_count": 4,
     "metadata": {},
     "output_type": "execute_result"
    }
   ],
   "source": [
    "# on check le DF\n",
    "centroides.head()"
   ]
  },
  {
   "cell_type": "code",
   "execution_count": 5,
   "metadata": {},
   "outputs": [],
   "source": [
    "# on crée un nouveau tableau des positions\n",
    "tableauPositions = np.array([\n",
    "    centroides['lattt'],\n",
    "    centroides['longgg']\n",
    "])"
   ]
  },
  {
   "cell_type": "code",
   "execution_count": 6,
   "metadata": {},
   "outputs": [
    {
     "data": {
      "text/plain": [
       "array([[49.09161259, 49.08260168, 49.09014746, ..., 48.73520617,\n",
       "        48.73215223, 48.73216952],\n",
       "       [ 2.56522451,  2.57319685,  2.56327156, ...,  2.20252894,\n",
       "         2.20648551,  2.20659725]])"
      ]
     },
     "execution_count": 6,
     "metadata": {},
     "output_type": "execute_result"
    }
   ],
   "source": [
    "tableauPositions"
   ]
  },
  {
   "cell_type": "code",
   "execution_count": 7,
   "metadata": {},
   "outputs": [],
   "source": [
    "#transposition du tableau :\n",
    "tableauPositionsT = tableauPositions.T"
   ]
  },
  {
   "cell_type": "code",
   "execution_count": 8,
   "metadata": {},
   "outputs": [
    {
     "data": {
      "text/plain": [
       "(8098, 2)"
      ]
     },
     "execution_count": 8,
     "metadata": {},
     "output_type": "execute_result"
    }
   ],
   "source": [
    "# dimensions du tableau transposé\n",
    "tableauPositionsT.shape"
   ]
  },
  {
   "cell_type": "code",
   "execution_count": 9,
   "metadata": {},
   "outputs": [],
   "source": [
    "# on fait appel au MarkerCluster\n",
    "mc = MarkerCluster(tableauPositionsT)"
   ]
  },
  {
   "cell_type": "code",
   "execution_count": 10,
   "metadata": {},
   "outputs": [
    {
     "data": {
      "text/plain": [
       "<folium.plugins.marker_cluster.MarkerCluster at 0x7f981b658190>"
      ]
     },
     "execution_count": 10,
     "metadata": {},
     "output_type": "execute_result"
    }
   ],
   "source": [
    "mc"
   ]
  },
  {
   "cell_type": "code",
   "execution_count": 11,
   "metadata": {},
   "outputs": [
    {
     "data": {
      "text/plain": [
       "<folium.plugins.marker_cluster.MarkerCluster at 0x7f981b658190>"
      ]
     },
     "execution_count": 11,
     "metadata": {},
     "output_type": "execute_result"
    }
   ],
   "source": [
    "# on l'ajoute à la carte\n",
    "mc.add_to(maCarte)"
   ]
  },
  {
   "cell_type": "code",
   "execution_count": 12,
   "metadata": {},
   "outputs": [
    {
     "data": {
      "text/plain": [
       "<folium.plugins.fullscreen.Fullscreen at 0x7f981b7c3890>"
      ]
     },
     "execution_count": 12,
     "metadata": {},
     "output_type": "execute_result"
    }
   ],
   "source": [
    "# ajout du plugin Fullscreen\n",
    "plugins.Fullscreen(\n",
    "        position = 'topright',\n",
    "        title = 'Plein écran',\n",
    "        force_separate_button = True).add_to(maCarte)"
   ]
  },
  {
   "cell_type": "code",
   "execution_count": 13,
   "metadata": {},
   "outputs": [],
   "source": [
    "# on affiche la carte\n",
    "#maCarte"
   ]
  },
  {
   "cell_type": "code",
   "execution_count": 14,
   "metadata": {},
   "outputs": [],
   "source": [
    "# on sauvegarde la carte\n",
    "maCarte.save('carteClustersPotagers.html')"
   ]
  },
  {
   "cell_type": "code",
   "execution_count": 15,
   "metadata": {},
   "outputs": [],
   "source": [
    "###"
   ]
  }
 ],
 "metadata": {
  "kernelspec": {
   "display_name": "g2m",
   "language": "python",
   "name": "g2m"
  },
  "language_info": {
   "codemirror_mode": {
    "name": "ipython",
    "version": 3
   },
   "file_extension": ".py",
   "mimetype": "text/x-python",
   "name": "python",
   "nbconvert_exporter": "python",
   "pygments_lexer": "ipython3",
   "version": "3.7.7"
  }
 },
 "nbformat": 4,
 "nbformat_minor": 4
}
